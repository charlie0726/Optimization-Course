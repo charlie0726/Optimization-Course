{
 "cells": [
  {
   "cell_type": "code",
   "execution_count": 1,
   "metadata": {},
   "outputs": [],
   "source": [
    "import numpy as np\n",
    "import random\n",
    "import pandas as pd\n",
    "import arff\n",
    "from sklearn import preprocessing\n",
    " "
   ]
  },
  {
   "cell_type": "code",
   "execution_count": 6,
   "metadata": {},
   "outputs": [],
   "source": [
    "matrix = [\n",
    "    [5,2,3],\n",
    "    [4,6,6],\n",
    "    [7,8,3],\n",
    "    [10,11,12]\n",
    "]\n",
    "y = np.array([1,0,0,1])\n",
    "df = pd.DataFrame(matrix, columns=list('xyz'))\n"
   ]
  },
  {
   "cell_type": "code",
   "execution_count": 7,
   "metadata": {},
   "outputs": [
    {
     "data": {
      "text/plain": [
       "array([1, 0, 0, 1])"
      ]
     },
     "execution_count": 7,
     "metadata": {},
     "output_type": "execute_result"
    }
   ],
   "source": [
    "y"
   ]
  },
  {
   "cell_type": "code",
   "execution_count": 309,
   "metadata": {},
   "outputs": [
    {
     "data": {
      "text/html": [
       "<div>\n",
       "<style scoped>\n",
       "    .dataframe tbody tr th:only-of-type {\n",
       "        vertical-align: middle;\n",
       "    }\n",
       "\n",
       "    .dataframe tbody tr th {\n",
       "        vertical-align: top;\n",
       "    }\n",
       "\n",
       "    .dataframe thead th {\n",
       "        text-align: right;\n",
       "    }\n",
       "</style>\n",
       "<table border=\"1\" class=\"dataframe\">\n",
       "  <thead>\n",
       "    <tr style=\"text-align: right;\">\n",
       "      <th></th>\n",
       "      <th>x</th>\n",
       "      <th>y</th>\n",
       "      <th>z</th>\n",
       "    </tr>\n",
       "  </thead>\n",
       "  <tbody>\n",
       "    <tr>\n",
       "      <th>0</th>\n",
       "      <td>-0.566947</td>\n",
       "      <td>-1.258306</td>\n",
       "      <td>-0.707107</td>\n",
       "    </tr>\n",
       "    <tr>\n",
       "      <th>1</th>\n",
       "      <td>-0.944911</td>\n",
       "      <td>-0.198680</td>\n",
       "      <td>0.000000</td>\n",
       "    </tr>\n",
       "    <tr>\n",
       "      <th>2</th>\n",
       "      <td>0.188982</td>\n",
       "      <td>0.331133</td>\n",
       "      <td>-0.707107</td>\n",
       "    </tr>\n",
       "    <tr>\n",
       "      <th>3</th>\n",
       "      <td>1.322876</td>\n",
       "      <td>1.125853</td>\n",
       "      <td>1.414214</td>\n",
       "    </tr>\n",
       "  </tbody>\n",
       "</table>\n",
       "</div>"
      ],
      "text/plain": [
       "          x         y         z\n",
       "0 -0.566947 -1.258306 -0.707107\n",
       "1 -0.944911 -0.198680  0.000000\n",
       "2  0.188982  0.331133 -0.707107\n",
       "3  1.322876  1.125853  1.414214"
      ]
     },
     "execution_count": 309,
     "metadata": {},
     "output_type": "execute_result"
    }
   ],
   "source": [
    "df = df.apply(lambda df : (df - np.mean(df)) / np.std(df, ddof = 1))\n",
    "df"
   ]
  },
  {
   "cell_type": "code",
   "execution_count": 311,
   "metadata": {},
   "outputs": [],
   "source": [
    "df.columns = np.arange(0,df.shape[1],1)\n",
    "df\n",
    "N = len(y)\n",
    "init_value = np.array([-0.7, 1.1, 1.1, -0.9])\n",
    "# np.random.normal(0,1,df.shape[1]) # mu, sigma, n np.array([-0.6973182, 1.1349651, 1.1119318, -0.8707776])\n",
    "gamma = 0.5 * 0.01\n",
    "update_beta = beta = init_value\n",
    "update_beta = update_beta + 1\n",
    "times = 0"
   ]
  },
  {
   "cell_type": "code",
   "execution_count": 12,
   "metadata": {
    "scrolled": true
   },
   "outputs": [],
   "source": [
    "def glm_st(x, y, alpha=0.5, lam=0.01, epsilon=0.00001):\n",
    "    x = x.apply(lambda x : (x - np.mean(x)) / np.std(x, ddof = 1))\n",
    "    x.insert(0,'截距',np.zeros(len(x)) + 1)\n",
    "    x.columns = np.arange(0,x.shape[1],1) #rename\n",
    "    \n",
    "    N = len(y)\n",
    "    init_value = np.random.normal(0,1,x.shape[1]) # mu, sigma, n np.array([-0.6973182, 1.1349651, 1.1119318, -0.8707776])\n",
    "    gamma = alpha * lam\n",
    "    update_beta = beta = init_value\n",
    "    update_beta = update_beta + 1\n",
    "    times = 0\n",
    "    while(np.linalg.norm(update_beta - beta) > epsilon):\n",
    "        update_beta = beta\n",
    "        times = times + 1\n",
    "        if times > 100 :\n",
    "            break\n",
    "        else:\n",
    "            for index in range(len(init_value)):\n",
    "                a1 = x[index] @ y / N\n",
    "                a2 = (x.T @ x[index].T) @ beta / N\n",
    "                z = a1 - a2 + beta[index]\n",
    "                if gamma >= abs(z):\n",
    "                    condition = 0\n",
    "                else:\n",
    "                    if z > 0:\n",
    "                        condition = z - gamma\n",
    "                    else:\n",
    "                        condition = z + gamma\n",
    "                beta[index] = condition / (1 + lam - gamma)\n",
    "    return(beta)\n",
    "                \n",
    "                "
   ]
  },
  {
   "cell_type": "code",
   "execution_count": 14,
   "metadata": {},
   "outputs": [
    {
     "data": {
      "text/plain": [
       "array([ 0.49      ,  0.94643293, -0.63740868, -0.10504863])"
      ]
     },
     "execution_count": 14,
     "metadata": {},
     "output_type": "execute_result"
    }
   ],
   "source": [
    "glm_st(df, y,alpha = 1)"
   ]
  },
  {
   "cell_type": "code",
   "execution_count": 15,
   "metadata": {},
   "outputs": [],
   "source": [
    "def glm_st(x, y, alpha=0.5, lam=0.01, epsilon=0.00001):\n",
    "    xnorm = x.apply(lambda x : (x - np.mean(x)) / np.std(x, ddof = 1))\n",
    "    xnorm.insert(0,'截距',np.ones(len(x)))\n",
    "    xnorm = xnorm.to_numpy()\n",
    "    ynew = y.to_numpy()\n",
    "    ynew.reshape(1,-1)\n",
    "    \n",
    "    N = len(y)\n",
    "    init_value = np.random.normal(0,1,[1,xnorm.shape[1]]) # mu, sigma, n np.array([-0.6973182, 1.1349651, 1.1119318, -0.8707776])\n",
    "    \n",
    "    gamma = alpha * lam\n",
    "    update_beta = beta = init_value\n",
    "    update_beta = update_beta + 1\n",
    "    times = 0\n",
    "    while(np.linalg.norm(update_beta - beta) > epsilon):\n",
    "        update_beta = beta\n",
    "        times = times + 1\n",
    "        if times > 100 :\n",
    "            break\n",
    "        else:\n",
    "            for index in range(len(init_value)):\n",
    "                a1 = xnorm[:,index:index+1].T @ ynew / N\n",
    "                #a2 = (((xnorm.T).dot(xnorm[:,index:index+1]))).T.dot(beta.T) / N\n",
    "                a2 = (xnorm.T @ xnorm[:,index:index+1]).T @ beta.T\n",
    "                \n",
    "                z = a1 - a2 + beta[0,index]\n",
    "                if gamma >= abs(z):\n",
    "                    condition = 0\n",
    "                else:\n",
    "                    if z > 0:\n",
    "                        condition = z - gamma\n",
    "                    else:\n",
    "                        condition = z + gamma\n",
    "                beta[0,index] = condition / (1 + lam - gamma)\n",
    "    return(beta)\n",
    "                \n",
    "                "
   ]
  }
 ],
 "metadata": {
  "kernelspec": {
   "display_name": "Python 3",
   "language": "python",
   "name": "python3"
  },
  "language_info": {
   "codemirror_mode": {
    "name": "ipython",
    "version": 3
   },
   "file_extension": ".py",
   "mimetype": "text/x-python",
   "name": "python",
   "nbconvert_exporter": "python",
   "pygments_lexer": "ipython3",
   "version": "3.7.6"
  }
 },
 "nbformat": 4,
 "nbformat_minor": 4
}
